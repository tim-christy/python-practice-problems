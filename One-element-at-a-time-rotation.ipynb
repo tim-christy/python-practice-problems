{
 "cells": [
  {
   "cell_type": "markdown",
   "metadata": {},
   "source": [
    "# Rotate Matrices One Element at a Time\n",
    "\n",
    "Input  \n",
    "\n",
    "1    2    3  \n",
    "\n",
    "4    5    6   \n",
    "\n",
    "7    8    9\n",
    "\n",
    "Output:  \n",
    "\n",
    "4    1    2  \n",
    "\n",
    "7    5    3  \n",
    "\n",
    "8    9    6  \n",
    "\n",
    "\n",
    "For 4*4 matrix\n",
    "Input:  \n",
    "\n",
    "1    2    3    4      \n",
    "\n",
    "5    6    7    8  \n",
    "\n",
    "9    10   11   12  \n",
    "\n",
    "13   14   15   16\n",
    "\n",
    "Output:  \n",
    "\n",
    "5    1    2    3  \n",
    "\n",
    "9    10   6    4  \n",
    "\n",
    "13   11   7    8  \n",
    "\n",
    "14   15   16   12"
   ]
  },
  {
   "cell_type": "code",
   "execution_count": 1,
   "metadata": {},
   "outputs": [],
   "source": [
    "AA = [[1,2,3],\n",
    "     [4,5,6],\n",
    "     [7,8,9]]\n",
    "\n",
    "\n",
    "A = [[1,2,3,4],\n",
    "      [5,6,7,8],\n",
    "      [9,10,11,12],\n",
    "      [13, 14,15,16]]"
   ]
  },
  {
   "cell_type": "code",
   "execution_count": 2,
   "metadata": {},
   "outputs": [],
   "source": [
    "from copy import deepcopy\n",
    "\n",
    "B = deepcopy(A)\n",
    "\n",
    "m = len(A)\n",
    "n = len(A[0])\n",
    "\n",
    "# 90 degree rotation right\n",
    "\n",
    "for i in range(m):\n",
    "    for j in range(n):\n",
    "        \n",
    "        \n",
    "        \n",
    "        # A: (0,1) moved up to B: (0,0)\n",
    "        if (j == 0) & (i==0):\n",
    "            B[i][j] = A[i+1][j]\n",
    "            \n",
    "        # A: (2,0) moved to B: (1, 0)\n",
    "        elif (i==1) & (j==0):\n",
    "            B[i][j] = A[i+1][j]\n",
    "        \n",
    "        \n",
    "        \n",
    "        # A: (0,0) moved to B: (0,1)\n",
    "        elif (i==0) & (j==1):\n",
    "            B[i][j] = A[i][j-1]\n",
    "        \n",
    "        # A: (0, 1) moved to (0,2)\n",
    "        elif (i==0) & (j==(n-1)):\n",
    "            B[i][j] = A[i][j-1]\n",
    "            \n",
    "            \n",
    "        \n",
    "        \n",
    "        # A: (1,1) moved to B: (1,1)\n",
    "        elif (i==1) & (j==1):\n",
    "            B[i][j] = A[i][j]\n",
    "       \n",
    "    \n",
    "    \n",
    "    \n",
    "            \n",
    "        # A: (0, 2) moved to B: (1, 2)\n",
    "        elif (i==1) & (j==(n-1)):\n",
    "            B[i][j] = A[i-1][j]\n",
    "            \n",
    "        # A: (1, 2) moved to (2, 2)\n",
    "        elif (i==(m-1)) & (j==(n-1)):\n",
    "            B[i][j] = A[i-1][j]\n",
    "        \n",
    "        \n",
    "        \n",
    "        \n",
    "        \n",
    "        \n",
    "        # A: (2, 1) moved to B: (2, 0)\n",
    "        elif (i==(m-1)) & (j==0):\n",
    "            B[i][j] = A[i][j+1]\n",
    "            \n",
    "            \n",
    "        # A: (2, 2) moved to B: (2,1)\n",
    "        elif (i==(m-1)) & (j==1):\n",
    "            B[i][j] = A[i][j+1]\n",
    "            \n",
    "            \n",
    "        \n",
    "        \n",
    "        \n",
    "        \n",
    "        \n",
    "        "
   ]
  },
  {
   "cell_type": "code",
   "execution_count": 3,
   "metadata": {},
   "outputs": [
    {
     "data": {
      "text/plain": [
       "[5, 1, 3, 3]"
      ]
     },
     "execution_count": 3,
     "metadata": {},
     "output_type": "execute_result"
    }
   ],
   "source": [
    "B[0]"
   ]
  },
  {
   "cell_type": "code",
   "execution_count": 4,
   "metadata": {},
   "outputs": [
    {
     "data": {
      "text/plain": [
       "[9, 6, 7, 4]"
      ]
     },
     "execution_count": 4,
     "metadata": {},
     "output_type": "execute_result"
    }
   ],
   "source": [
    "B[1]"
   ]
  },
  {
   "cell_type": "code",
   "execution_count": 5,
   "metadata": {},
   "outputs": [
    {
     "data": {
      "text/plain": [
       "[9, 10, 11, 12]"
      ]
     },
     "execution_count": 5,
     "metadata": {},
     "output_type": "execute_result"
    }
   ],
   "source": [
    "B[2]"
   ]
  },
  {
   "cell_type": "code",
   "execution_count": 6,
   "metadata": {},
   "outputs": [
    {
     "name": "stdout",
     "output_type": "stream",
     "text": [
      "[1, 2, 3, 4]\n",
      "[5, 6, 7, 8]\n",
      "[9, 10, 11, 12]\n",
      "[13, 14, 15, 16]\n"
     ]
    }
   ],
   "source": [
    "print(A[0])\n",
    "print(A[1])\n",
    "print(A[2])\n",
    "print(A[3])"
   ]
  },
  {
   "cell_type": "markdown",
   "metadata": {},
   "source": [
    "Work on the extremes."
   ]
  },
  {
   "cell_type": "code",
   "execution_count": 7,
   "metadata": {},
   "outputs": [],
   "source": [
    "def outer_element_rot(A):\n",
    "    m = len(A)\n",
    "    n = len(A[0])\n",
    "    B = deepcopy(A)\n",
    "    \n",
    "    \n",
    "    for i in range(m):\n",
    "        for j in range(m):\n",
    "            if i == 0:\n",
    "                if j == 0:\n",
    "                    B[i][j] = A[i+1][j]\n",
    "\n",
    "                else:\n",
    "                    B[i][j] = A[i][j-1]\n",
    "\n",
    "            elif ((i!=0)&(i!=(m-1))) & (j==0)  :\n",
    "                B[i][j] = A[i+1][j]\n",
    "\n",
    "\n",
    "            elif (i != 0) & (j == (n-1)):\n",
    "                B[i][j] = A[i-1][j]\n",
    "\n",
    "            elif i==(m-1):\n",
    "                if (j==0):\n",
    "                    B[i][j] = A[i][j+1]\n",
    "\n",
    "                elif (j==(n-1)):\n",
    "                    B[i][j] = A[i-1][j]\n",
    "\n",
    "                else:\n",
    "                    B[i][j] = A[i][j+1]\n",
    "                    \n",
    "            \n",
    "    return B"
   ]
  },
  {
   "cell_type": "code",
   "execution_count": 8,
   "metadata": {},
   "outputs": [
    {
     "name": "stdout",
     "output_type": "stream",
     "text": [
      "[5, 1, 3, 3]\n",
      "[9, 6, 7, 4]\n",
      "[9, 10, 11, 12]\n",
      "[14, 15, 15, 12]\n"
     ]
    }
   ],
   "source": [
    "print(B[0])\n",
    "print(B[1])\n",
    "print(B[2])\n",
    "print(B[3])"
   ]
  },
  {
   "cell_type": "code",
   "execution_count": 9,
   "metadata": {},
   "outputs": [
    {
     "name": "stdout",
     "output_type": "stream",
     "text": [
      "[1, 2, 3, 4]\n",
      "[5, 6, 7, 8]\n",
      "[9, 10, 11, 12]\n",
      "[13, 14, 15, 16]\n"
     ]
    }
   ],
   "source": [
    "print(A[0])\n",
    "print(A[1])\n",
    "print(A[2])\n",
    "print(A[3])"
   ]
  },
  {
   "cell_type": "code",
   "execution_count": 10,
   "metadata": {},
   "outputs": [],
   "source": [
    "C = [[6,7], [10,11]]"
   ]
  },
  {
   "cell_type": "code",
   "execution_count": 11,
   "metadata": {},
   "outputs": [
    {
     "data": {
      "text/plain": [
       "[[10, 6], [11, 7]]"
      ]
     },
     "execution_count": 11,
     "metadata": {},
     "output_type": "execute_result"
    }
   ],
   "source": [
    "outer_element_rot(C)"
   ]
  },
  {
   "cell_type": "code",
   "execution_count": null,
   "metadata": {},
   "outputs": [],
   "source": []
  }
 ],
 "metadata": {
  "kernelspec": {
   "display_name": "Python 3",
   "language": "python",
   "name": "python3"
  },
  "language_info": {
   "codemirror_mode": {
    "name": "ipython",
    "version": 3
   },
   "file_extension": ".py",
   "mimetype": "text/x-python",
   "name": "python",
   "nbconvert_exporter": "python",
   "pygments_lexer": "ipython3",
   "version": "3.7.4"
  }
 },
 "nbformat": 4,
 "nbformat_minor": 2
}
